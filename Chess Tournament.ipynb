{
 "cells": [
  {
   "cell_type": "code",
   "execution_count": 1,
   "metadata": {
    "collapsed": false
   },
   "outputs": [
    {
     "data": {
      "application/javascript": [
       "IPython.OutputArea.prototype._should_scroll = function(lines) {\n",
       "    return false;\n",
       "}"
      ],
      "text/plain": [
       "<IPython.core.display.Javascript object>"
      ]
     },
     "metadata": {},
     "output_type": "display_data"
    }
   ],
   "source": [
    "%%javascript\n",
    "IPython.OutputArea.prototype._should_scroll = function(lines) {\n",
    "    return false;\n",
    "}"
   ]
  },
  {
   "cell_type": "code",
   "execution_count": 2,
   "metadata": {
    "collapsed": true
   },
   "outputs": [],
   "source": [
    "from chessbot.bot import ChessBotLessDumb, ChessBotDumb\n",
    "from chessbot.simulator import ChessSimulator"
   ]
  },
  {
   "cell_type": "code",
   "execution_count": 3,
   "metadata": {
    "collapsed": true
   },
   "outputs": [],
   "source": [
    "chessbots = [ChessBotDumb('Dumb'),\n",
    "             ChessBotLessDumb('Passive', {'attack_prob': 0.6}),\n",
    "             ChessBotLessDumb('Aggressive', {'attack_prob': 0.6})]"
   ]
  },
  {
   "cell_type": "code",
   "execution_count": 6,
   "metadata": {
    "collapsed": false
   },
   "outputs": [
    {
     "name": "stdout",
     "output_type": "stream",
     "text": [
      "           -         Dum         Pas         Agg\n",
      "         Dum           -     0.5-1.5     1.0-1.0\n",
      "         Pas     1.0-1.0           -     1.0-1.0\n",
      "         Agg     1.0-1.0     0.5-1.5           -\n"
     ]
    }
   ],
   "source": [
    "scores = {player.get_name(): 0.0 for player in chessbots}\n",
    "base_format = \"{:>12}\" * (len(chessbots) + 1)\n",
    "\n",
    "print(base_format.format(\"-\", *[player.get_short_name() for player in chessbots]))\n",
    "\n",
    "for p1 in chessbots:\n",
    "    line = [p1.get_short_name()]\n",
    "    for p2 in chessbots:\n",
    "        if p1 is not p2:\n",
    "            game = ChessSimulator(p1, p2, shuffle=False)\n",
    "            result = game.simulate(2, turn_sleep_ms=0, verbose = False)\n",
    "            line.append(\"{}-{}\".format(*result.values()))\n",
    "            for player in result: scores[player] += result[player]\n",
    "        else:\n",
    "            line.append('-')\n",
    "    print(base_format.format(*line))\n",
    "    "
   ]
  },
  {
   "cell_type": "code",
   "execution_count": 5,
   "metadata": {
    "collapsed": false
   },
   "outputs": [
    {
     "name": "stdout",
     "output_type": "stream",
     "text": [
      "ChessBotLessDumb Aggressive: 5.0\n",
      "ChessBotLessDumb Passive: 4.0\n",
      "ChessBotDumb Dumb: 3.0\n"
     ]
    }
   ],
   "source": [
    "for player, score in sorted(scores.items(), key = lambda v:-v[1]):\n",
    "    print (\"%s: %s\" % (player, score))"
   ]
  },
  {
   "cell_type": "code",
   "execution_count": null,
   "metadata": {
    "collapsed": true
   },
   "outputs": [],
   "source": []
  }
 ],
 "metadata": {
  "kernelspec": {
   "display_name": "Python 3",
   "language": "python",
   "name": "python3"
  },
  "language_info": {
   "codemirror_mode": {
    "name": "ipython",
    "version": 3
   },
   "file_extension": ".py",
   "mimetype": "text/x-python",
   "name": "python",
   "nbconvert_exporter": "python",
   "pygments_lexer": "ipython3",
   "version": "3.5.2"
  }
 },
 "nbformat": 4,
 "nbformat_minor": 2
}
